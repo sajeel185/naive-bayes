{
 "cells": [
  {
   "cell_type": "code",
   "execution_count": 71,
   "metadata": {},
   "outputs": [],
   "source": [
    "%matplotlib inline\n",
    "import numpy as np\n",
    "import pandas as pd\n",
    "import scipy\n",
    "import sklearn\n",
    "import matplotlib.pyplot as plt\n",
    "import seaborn as sns\n",
    "\n"
   ]
  },
  {
   "cell_type": "code",
   "execution_count": 72,
   "metadata": {},
   "outputs": [
    {
     "name": "stdout",
     "output_type": "stream",
     "text": [
      "                                               message  sentiment\n",
      "0    A very, very, very slow-moving, aimless movie ...        0.0\n",
      "1    Not sure who was more lost - the flat characte...        0.0\n",
      "2    Attempting artiness with black & white and cle...        0.0\n",
      "3         Very little music or anything to speak of.          0.0\n",
      "4    The best scene in the movie was when Gerardo i...        1.0\n",
      "5    The rest of the movie lacks art, charm, meanin...        0.0\n",
      "6                                  Wasted two hours.          0.0\n",
      "7    Saw the movie today and thought it was a good ...        1.0\n",
      "8                                 A bit predictable.          0.0\n",
      "9    Loved the casting of Jimmy Buffet as the scien...        1.0\n",
      "10                And those baby owls were adorable.          1.0\n",
      "11   The movie showed a lot of Florida at it's best...        1.0\n",
      "12   The Songs Were The Best And The Muppets Were S...        1.0\n",
      "13                                   It Was So Cool.          1.0\n",
      "14   This is a very \"right on case\" movie that deli...        1.0\n",
      "15   It had some average acting from the main perso...        0.0\n",
      "16   This review is long overdue, since I consider ...        1.0\n",
      "17   I'll put this gem up against any movie in term...        1.0\n",
      "18   It's practically perfect in all of them  a tr...        1.0\n",
      "20   I can think of no other film where something v...        1.0\n",
      "21   In other words, the content level of this film...        1.0\n",
      "22   How can anyone in their right mind ask for any...        1.0\n",
      "23   It's quite simply the highest, most superlativ...        1.0\n",
      "24   Yes, this film does require a rather significa...        1.0\n",
      "25       This short film certainly pulls no punches.          0.0\n",
      "26   Graphics is far from the best part of the game.          0.0\n",
      "27   This is the number one best TH game in the ser...        1.0\n",
      "28                          It deserves strong love.          1.0\n",
      "29                             It is an insane game.          1.0\n",
      "30   There are massive levels, massive unlockable c...        1.0\n",
      "..                                                 ...        ...\n",
      "970  Enough can not be said of the remarkable anima...        1.0\n",
      "971  The art style has the appearance of crayon/pen...        1.0\n",
      "972  If you act in such a film, you should be glad ...        0.0\n",
      "973  This one wants to surf on the small wave of sp...        0.0\n",
      "974  If you haven't choked in your own vomit by the...        0.0\n",
      "975  Still, it makes up for all of this with a supe...        1.0\n",
      "976  Just consider the excellent story, solid actin...        1.0\n",
      "977  Instead, we got a bore fest about a whiny, spo...        0.0\n",
      "978  Then I watched it again two Sundays ago (March...        1.0\n",
      "979       It is a very well acted and done TV Movie.          1.0\n",
      "980  Judith Light is one of my favorite actresses a...        1.0\n",
      "981                I keep watching it over and over.          1.0\n",
      "982                 It's a sad movie, but very good.          1.0\n",
      "983  If you have not seen this movie, I definitely ...        1.0\n",
      "984           She is as lovely as usual, this cutie!          1.0\n",
      "985  Still it's quite interesting and entertaining ...        1.0\n",
      "986                    ;) Recommend with confidence!          1.0\n",
      "987  This movie is well-balanced with comedy and dr...        1.0\n",
      "988  It was a riot to see Hugo Weaving play a sex-o...        1.0\n",
      "989  :) Anyway, the plot flowed smoothly and the ma...        1.0\n",
      "990  The opening sequence of this gem is a classic,...        1.0\n",
      "991             Fans of the genre will be in heaven.          1.0\n",
      "992                Lange had become a great actress.          1.0\n",
      "993                It looked like a wonderful story.          1.0\n",
      "994            I never walked out of a movie faster.          0.0\n",
      "995  I just got bored watching Jessice Lange take h...        0.0\n",
      "996  Unfortunately, any virtue in this film's produ...        0.0\n",
      "997                   In a word, it is embarrassing.          0.0\n",
      "998                               Exceptionally bad!          0.0\n",
      "999  All in all its an insult to one's intelligence...        0.0\n",
      "\n",
      "[992 rows x 2 columns]\n"
     ]
    }
   ],
   "source": [
    "df = pd.read_csv(\"imdb_labelled.csv\", header=None)\n",
    "df.columns = ['message', 'sentiment']\n",
    "df = df.dropna()\n",
    "df = df.drop_duplicates()\n",
    "\n",
    "print(df)"
   ]
  },
  {
   "cell_type": "code",
   "execution_count": 73,
   "metadata": {},
   "outputs": [
    {
     "name": "stdout",
     "output_type": "stream",
     "text": [
      "                                             message  sentiment    bad  \\\n",
      "0  A very, very, very slow-moving, aimless movie ...        0.0  False   \n",
      "1  Not sure who was more lost - the flat characte...        0.0  False   \n",
      "2  Attempting artiness with black & white and cle...        0.0  False   \n",
      "3       Very little music or anything to speak of.          0.0  False   \n",
      "4  The best scene in the movie was when Gerardo i...        1.0  False   \n",
      "\n",
      "   boring  worst  wasted  little  horrible  slow-moving  hated  \n",
      "0   False  False   False   False     False        False  False  \n",
      "1   False  False   False   False     False        False  False  \n",
      "2   False  False   False   False     False        False  False  \n",
      "3   False  False   False    True     False        False  False  \n",
      "4   False  False   False   False     False        False  False  \n"
     ]
    }
   ],
   "source": [
    "keywords = ['bad', 'boring', 'worst', 'wasted', 'little', 'horrible', 'slow-moving', 'hated', 'vomit']\n",
    "\n",
    "for key in keywords:\n",
    "    # Note that we add spaces around the key so that we're getting the word,\n",
    "    # not just pattern matching.\n",
    "    df[str(key)] = df.message.str.contains(\n",
    "        ' ' + str(key) + ' ',\n",
    "        case=False\n",
    "    )\n",
    "    \n",
    "print(df.head())"
   ]
  },
  {
   "cell_type": "code",
   "execution_count": 74,
   "metadata": {},
   "outputs": [
    {
     "name": "stdout",
     "output_type": "stream",
     "text": [
      "AxesSubplot(0.125,0.125;0.62x0.755)\n"
     ]
    },
    {
     "data": {
      "image/png": "[encoded data removed]",
      "text/plain": [
       "<Figure size 432x288 with 2 Axes>"
      ]
     },
     "metadata": {
      "needs_background": "light"
     },
     "output_type": "display_data"
    }
   ],
   "source": [
    "df_heat = sns.heatmap(df.corr())\n",
    "\n",
    "print(df_heat)"
   ]
  },
  {
   "cell_type": "code",
   "execution_count": 75,
   "metadata": {},
   "outputs": [],
   "source": [
    "data = df[keywords]\n",
    "target = df['sentiment']"
   ]
  },
  {
   "cell_type": "code",
   "execution_count": 76,
   "metadata": {},
   "outputs": [
    {
     "name": "stdout",
     "output_type": "stream",
     "text": [
      "Number of mislabeled points out of a total 992 points : 445\n"
     ]
    }
   ],
   "source": [
    "# Our data is binary / boolean, so we're importing the Bernoulli classifier.\n",
    "from sklearn.naive_bayes import BernoulliNB\n",
    "\n",
    "# Instantiate our model and store it in a new variable.\n",
    "bnb = BernoulliNB()\n",
    "\n",
    "# Fit our model to the data.\n",
    "bnb.fit(data, target)\n",
    "\n",
    "# Classify, storing the result in a new variable.\n",
    "y_pred = bnb.predict(data)\n",
    "\n",
    "# Display our results.\n",
    "print(\"Number of mislabeled points out of a total {} points : {}\".format(\n",
    "    data.shape[0],\n",
    "    (target != y_pred).sum()\n",
    "))"
   ]
  }
 ],
 "metadata": {
  "kernelspec": {
   "display_name": "Python 3",
   "language": "python",
   "name": "python3"
  },
  "language_info": {
   "codemirror_mode": {
    "name": "ipython",
    "version": 3
   },
   "file_extension": ".py",
   "mimetype": "text/x-python",
   "name": "python",
   "nbconvert_exporter": "python",
   "pygments_lexer": "ipython3",
   "version": "3.7.0"
  }
 },
 "nbformat": 4,
 "nbformat_minor": 2
}
