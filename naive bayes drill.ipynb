{
 "cells": [
  {
   "cell_type": "code",
   "execution_count": 9,
   "metadata": {},
   "outputs": [],
   "source": [
    "%matplotlib inline\n",
    "import numpy as np\n",
    "import pandas as pd\n",
    "import scipy\n",
    "import sklearn\n",
    "import matplotlib.pyplot as plt\n",
    "import seaborn as sns"
   ]
  },
  {
   "cell_type": "code",
   "execution_count": 10,
   "metadata": {},
   "outputs": [
    {
     "name": "stdout",
     "output_type": "stream",
     "text": [
      "                                             message  sentiment\n",
      "0  A very, very, very slow-moving, aimless movie ...        0.0\n",
      "1  Not sure who was more lost - the flat characte...        0.0\n",
      "2  Attempting artiness with black & white and cle...        0.0\n",
      "3       Very little music or anything to speak of.          0.0\n",
      "4  The best scene in the movie was when Gerardo i...        1.0\n"
     ]
    }
   ],
   "source": [
    "df = pd.read_csv(\"imdb_labelled.csv\", header=None)\n",
    "df.columns = ['message', 'sentiment']\n",
    "\n",
    "print(df.head())"
   ]
  },
  {
   "cell_type": "code",
   "execution_count": 11,
   "metadata": {},
   "outputs": [
    {
     "name": "stdout",
     "output_type": "stream",
     "text": [
      "                                             message  sentiment    bad  \\\n",
      "0  A very, very, very slow-moving, aimless movie ...        0.0  False   \n",
      "1  Not sure who was more lost - the flat characte...        0.0  False   \n",
      "2  Attempting artiness with black & white and cle...        0.0  False   \n",
      "3       Very little music or anything to speak of.          0.0  False   \n",
      "4  The best scene in the movie was when Gerardo i...        1.0  False   \n",
      "\n",
      "   boring   slow   lost  worst  wasted  \n",
      "0   False  False  False  False   False  \n",
      "1   False  False   True  False   False  \n",
      "2   False  False  False  False   False  \n",
      "3   False  False  False  False   False  \n",
      "4   False  False  False  False   False  \n"
     ]
    }
   ],
   "source": [
    "keywords = ['bad', 'boring', 'slow', 'lost', 'worst', 'wasted']\n",
    "\n",
    "for key in keywords:\n",
    "    # Note that we add spaces around the key so that we're getting the word,\n",
    "    # not just pattern matching.\n",
    "    df[str(key)] = df.message.str.contains(\n",
    "        ' ' + str(key) + ' ',\n",
    "        case=False\n",
    "    )\n",
    "    \n",
    "print(df.head())"
   ]
  },
  {
   "cell_type": "code",
   "execution_count": 12,
   "metadata": {},
   "outputs": [
    {
     "name": "stdout",
     "output_type": "stream",
     "text": [
      "AxesSubplot(0.125,0.125;0.62x0.755)\n"
     ]
    },
    {
     "data": {
      "image/png": "[encoded data removed]",
      "text/plain": [
       "<Figure size 432x288 with 2 Axes>"
      ]
     },
     "metadata": {
      "needs_background": "light"
     },
     "output_type": "display_data"
    }
   ],
   "source": [
    "df_heat = sns.heatmap(df.corr())\n",
    "\n",
    "print(df_heat)"
   ]
  }
 ],
 "metadata": {
  "kernelspec": {
   "display_name": "Python 3",
   "language": "python",
   "name": "python3"
  },
  "language_info": {
   "codemirror_mode": {
    "name": "ipython",
    "version": 3
   },
   "file_extension": ".py",
   "mimetype": "text/x-python",
   "name": "python",
   "nbconvert_exporter": "python",
   "pygments_lexer": "ipython3",
   "version": "3.7.0"
  }
 },
 "nbformat": 4,
 "nbformat_minor": 2
}
